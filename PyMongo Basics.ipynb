{
 "cells": [
  {
   "cell_type": "markdown",
   "metadata": {},
   "source": [
    "#PyMongo Basics\n",
    "\n",
    "MongoDB is one of a number of schemaless, NoSQL databases which have became popular for use in big data and in areas where the strict schemas of a SQL database don't always fit. PyMongo is a python distribution which allows us to work with MongoDB from python. You need to <a href =\"https://api.mongodb.org/python/current/\" target=\"_blank\">download and install PyMongo</a> and also <a href=\"http://docs.mongodb.org/manual/installation/\" target=\"_blank\">download and install MongoDB.</a> Before using the below tutorial you must have a mongod instance running. (in the command line cd to where MongoDB was installed, cd to the bin folder and type mongod. For me, on windows, this was C:\\Program Files\\MongoDB\\Server\\3.0\\bin and then I typed mongod. "
   ]
  },
  {
   "cell_type": "code",
   "execution_count": 1,
   "metadata": {
    "collapsed": true
   },
   "outputs": [],
   "source": [
    "from pymongo import MongoClient\n",
    "\n",
    "client = MongoClient() #connects to the running mongod instance\n",
    "users = client.test_database.user #creates database \"test_database\" and collection \"user\" if they do not already exist"
   ]
  },
  {
   "cell_type": "code",
   "execution_count": 2,
   "metadata": {
    "collapsed": false
   },
   "outputs": [
    {
     "data": {
      "text/plain": [
       "{u'n': 0, u'ok': 1}"
      ]
     },
     "execution_count": 2,
     "metadata": {},
     "output_type": "execute_result"
    }
   ],
   "source": [
    "users.remove({}) #Making sure that the collection is empty before I start"
   ]
  },
  {
   "cell_type": "markdown",
   "metadata": {},
   "source": [
    "In SQL databases hold tables, tables contain rows and each row is made up of a number of columns. In NoSQL databases hold collections, collections hold documents and each document is made up of a number of fields. Documents are the NoSQL version of rows and are written in json, so we can write them as python dictionaries. Above we are using the database \"test_database\" and the collection \"user\". This is the collection we will insert our documents into."
   ]
  },
  {
   "cell_type": "code",
   "execution_count": 3,
   "metadata": {
    "collapsed": false
   },
   "outputs": [
    {
     "data": {
      "text/plain": [
       "<pymongo.results.InsertOneResult at 0x374bea0>"
      ]
     },
     "execution_count": 3,
     "metadata": {},
     "output_type": "execute_result"
    }
   ],
   "source": [
    "user = {\"name\" : \"Bob\",\n",
    "       \"location\" : \"Ireland\",\n",
    "       \"interests\" : [\"Java\", \"python\"]} \n",
    "\n",
    "users.insert_one(user) #insert user into users collection as a document. insert() can also be used."
   ]
  },
  {
   "cell_type": "code",
   "execution_count": 4,
   "metadata": {
    "collapsed": false
   },
   "outputs": [
    {
     "data": {
      "text/plain": [
       "<pymongo.cursor.Cursor at 0x374cc18>"
      ]
     },
     "execution_count": 4,
     "metadata": {},
     "output_type": "execute_result"
    }
   ],
   "source": [
    "users.find() #find() returns a cursor"
   ]
  },
  {
   "cell_type": "code",
   "execution_count": 5,
   "metadata": {
    "collapsed": false
   },
   "outputs": [
    {
     "data": {
      "text/plain": [
       "{u'_id': ObjectId('55f2f7c08b92f7072c1f5c76'),\n",
       " u'interests': [u'Java', u'python'],\n",
       " u'location': u'Ireland',\n",
       " u'name': u'Bob'}"
      ]
     },
     "execution_count": 5,
     "metadata": {},
     "output_type": "execute_result"
    }
   ],
   "source": [
    "users.find_one()"
   ]
  },
  {
   "cell_type": "markdown",
   "metadata": {},
   "source": [
    "Above we created a document with name, location and interests fields. The fields above take strings or a list of strings but it is also possible to give them ints, floats, even other documents and many other types.\n",
    "Using Javascript typing find() would return all documents in a collection but in python it returns a cursor which can be used to return all documents. find_one() (findOne() in Javascript) returns the first document from the collection.\n",
    "\n",
    "Below we add another user and use the cursor to iterate over all the users and print them. This user has a different number of fields to our first user, location is not declared. This would cause an error in SQL but is perfectly acceptable in NoSQL."
   ]
  },
  {
   "cell_type": "code",
   "execution_count": 6,
   "metadata": {
    "collapsed": false
   },
   "outputs": [
    {
     "data": {
      "text/plain": [
       "<pymongo.results.InsertOneResult at 0x374b678>"
      ]
     },
     "execution_count": 6,
     "metadata": {},
     "output_type": "execute_result"
    }
   ],
   "source": [
    "user = {\"name\" : \"Ted\",\n",
    "       \"interests\" : [\"data science\", \"R\"]} #Note that this document does not contain the same fields (columns) as the one above\n",
    "users.insert_one(user)"
   ]
  },
  {
   "cell_type": "code",
   "execution_count": 7,
   "metadata": {
    "collapsed": false
   },
   "outputs": [
    {
     "name": "stdout",
     "output_type": "stream",
     "text": [
      "{u'interests': [u'Java', u'python'], u'_id': ObjectId('55f2f7c08b92f7072c1f5c76'), u'name': u'Bob', u'location': u'Ireland'}\n",
      "{u'interests': [u'data science', u'R'], u'_id': ObjectId('55f2f7c68b92f7072c1f5c77'), u'name': u'Ted'}\n"
     ]
    }
   ],
   "source": [
    "for user in users.find(): #use the cursor to return all documents in the collection\n",
    "    print user #the order the fields will be printed in can't be guaranteed"
   ]
  },
  {
   "cell_type": "markdown",
   "metadata": {},
   "source": [
    "insert_many() can be used for bulk inserts. Again note that the first user has an extra field not declared by any of the other users."
   ]
  },
  {
   "cell_type": "code",
   "execution_count": 8,
   "metadata": {
    "collapsed": false
   },
   "outputs": [
    {
     "data": {
      "text/plain": [
       "<pymongo.results.InsertManyResult at 0x374bcf0>"
      ]
     },
     "execution_count": 8,
     "metadata": {},
     "output_type": "execute_result"
    }
   ],
   "source": [
    "#Insert many users at once\n",
    "\n",
    "new_users = [{\"name\" : \"Mike\",\n",
    "              \"occupation\" : \"Data Scientist\",\n",
    "              \"interests\" : [\"data science\", \"machine learning\", \"python\", \"R\"]},\n",
    "             {\"name\" : \"Elliot\",\n",
    "              \"interests\" : [\"programming\"]}]\n",
    "users.insert_many(new_users)"
   ]
  },
  {
   "cell_type": "code",
   "execution_count": 9,
   "metadata": {
    "collapsed": false
   },
   "outputs": [
    {
     "name": "stdout",
     "output_type": "stream",
     "text": [
      "Bob\n",
      "Ted\n",
      "Mike\n",
      "Elliot\n"
     ]
    }
   ],
   "source": [
    "for user in users.find():\n",
    "    print user[\"name\"] #print out just the users name"
   ]
  },
  {
   "cell_type": "markdown",
   "metadata": {},
   "source": [
    "While we know that each user has included their name, if we try to iterate over a field that is not present in all documents, such as the occupation field, we will get an error. Code such as below should be used to prevent an error being thrown. "
   ]
  },
  {
   "cell_type": "code",
   "execution_count": 10,
   "metadata": {
    "collapsed": false
   },
   "outputs": [
    {
     "name": "stdout",
     "output_type": "stream",
     "text": [
      "Data Scientist\n"
     ]
    }
   ],
   "source": [
    "#printing the occupation for all users will throw an error as only one document contains this information\n",
    "for user in users.find():\n",
    "    try:\n",
    "        print user[\"occupation\"]\n",
    "    except (Exception):\n",
    "        pass"
   ]
  },
  {
   "cell_type": "code",
   "execution_count": 11,
   "metadata": {
    "collapsed": false
   },
   "outputs": [
    {
     "name": "stdout",
     "output_type": "stream",
     "text": [
      "<pymongo.cursor.Cursor object at 0x000000000374CCF8>\n"
     ]
    }
   ],
   "source": [
    "#find returns the cursor position of a specific user\n",
    "print users.find({\"name\" : \"Bob\"}) #using find_one() instead would return the first user found whose name is Bob."
   ]
  },
  {
   "cell_type": "markdown",
   "metadata": {},
   "source": [
    "Bob has gotten a job and wants to update his profile. users.find_one({\"name\" : \"Bob\"}) returns the first user whose name is Bob. As with a dictionary we add an occupation field and set its value to \"programmer\" and then update the first returned Bob with the new document. Note that the ObjectId returned below is identical to the ObjectID returned the first time we inserted Bob into the collection. The ObjectId is the unique identifier of a row and this shows that we have updated the row, not made a new one. "
   ]
  },
  {
   "cell_type": "code",
   "execution_count": 12,
   "metadata": {
    "collapsed": false
   },
   "outputs": [
    {
     "name": "stdout",
     "output_type": "stream",
     "text": [
      "{u'interests': [u'Java', u'python'], u'location': u'Ireland', u'_id': ObjectId('55f2f7c08b92f7072c1f5c76'), u'name': u'Bob', u'occupation': u'programmer'}\n"
     ]
    }
   ],
   "source": [
    "update_user = users.find_one({\"name\" : \"Bob\"})\n",
    "update_user[\"occupation\"] = \"programmer\"\n",
    "users.update({\"name\" : \"Bob\"}, update_user)\n",
    "\n",
    "print users.find_one({\"name\" : \"Bob\"})"
   ]
  },
  {
   "cell_type": "markdown",
   "metadata": {},
   "source": [
    "It turns out that \"Elliot\" is actually a bot account made with the purpose of spamming the other users. remove({\"name\" : \"Elliot\"}) will remove all Elliots in our collection which is ok as we only have one. For larger collections all removing or updating should be done on the ObjectID. When we use find_one() afterwards nothing is returned as there is now now user with the name Elliot in the collection."
   ]
  },
  {
   "cell_type": "code",
   "execution_count": 13,
   "metadata": {
    "collapsed": true
   },
   "outputs": [],
   "source": [
    "users.remove({\"name\" : \"Elliot\"})\n",
    "users.find_one({\"name\" : \"Elliot\"})"
   ]
  },
  {
   "cell_type": "markdown",
   "metadata": {},
   "source": [
    "An example of how to delete data from a user is shown below. We pull Mike's data out of the collection and then pop off the occupation field. "
   ]
  },
  {
   "cell_type": "code",
   "execution_count": 14,
   "metadata": {
    "collapsed": false
   },
   "outputs": [
    {
     "name": "stdout",
     "output_type": "stream",
     "text": [
      "{u'interests': [u'data science', u'machine learning', u'python', u'R'], u'_id': ObjectId('55f2f7ca8b92f7072c1f5c78'), u'name': u'Mike'}\n"
     ]
    }
   ],
   "source": [
    "update_user = users.find_one({\"name\" : \"Mike\"})\n",
    "update_user.pop(\"occupation\")\n",
    "print update_user"
   ]
  },
  {
   "cell_type": "markdown",
   "metadata": {},
   "source": [
    "Here we print off the ObjectId for Mike. This returns to us a string which we can not use in searching the collection. To do so we must convert it into an ObjectId by importing ObjectId from bson.objectid (binary javascript object notation). Below we get Mike's ObjectId as a string, convert it and search the collection for his document, update his document and then search for the new entry, all using his unique ObjectId."
   ]
  },
  {
   "cell_type": "code",
   "execution_count": 15,
   "metadata": {
    "collapsed": false
   },
   "outputs": [
    {
     "name": "stdout",
     "output_type": "stream",
     "text": [
      "55f2f7ca8b92f7072c1f5c78\n"
     ]
    }
   ],
   "source": [
    "print update_user[\"_id\"]"
   ]
  },
  {
   "cell_type": "code",
   "execution_count": 16,
   "metadata": {
    "collapsed": false
   },
   "outputs": [
    {
     "name": "stdout",
     "output_type": "stream",
     "text": [
      "{u'interests': [u'data science', u'machine learning', u'python', u'R'], u'_id': ObjectId('55f2f7ca8b92f7072c1f5c78'), u'name': u'Mike', u'occupation': u'Data Scientist'}\n",
      "\n",
      "{u'interests': [u'data science', u'machine learning', u'python', u'R'], u'_id': ObjectId('55f2f7ca8b92f7072c1f5c78'), u'name': u'Mike'}\n"
     ]
    }
   ],
   "source": [
    "from bson.objectid import ObjectId\n",
    "\n",
    "id_as_string = update_user[\"_id\"]\n",
    "print users.find_one({\"_id\" : ObjectId(id_as_string)})\n",
    "\n",
    "users.update({\"_id\" : ObjectId(id_as_string)}, update_user)\n",
    "print \"\"\n",
    "print users.find_one({\"_id\" : ObjectId(id_as_string)})\n"
   ]
  },
  {
   "cell_type": "markdown",
   "metadata": {},
   "source": [
    "PyMongo allows us to leverage other great python modules such as Pandas. Here we import pandas, convert the cursor returned by using find() into a list and then pass turn that into a new DataFrame. All missing values are replaced with NaN and we can use pandas fillna() to replace these with suitable values"
   ]
  },
  {
   "cell_type": "code",
   "execution_count": 17,
   "metadata": {
    "collapsed": false
   },
   "outputs": [
    {
     "name": "stdout",
     "output_type": "stream",
     "text": [
      "                        _id                                    interests  \\\n",
      "0  55f2f7c68b92f7072c1f5c77                            [data science, R]   \n",
      "1  55f2f7ca8b92f7072c1f5c78  [data science, machine learning, python, R]   \n",
      "2  55f2f7c08b92f7072c1f5c76                               [Java, python]   \n",
      "\n",
      "  location  name  occupation  \n",
      "0      NaN   Ted         NaN  \n",
      "1      NaN  Mike         NaN  \n",
      "2  Ireland   Bob  programmer  \n"
     ]
    }
   ],
   "source": [
    "import pandas as pd\n",
    "\n",
    "df = pd.DataFrame(list(users.find()))\n",
    "print df.head()"
   ]
  },
  {
   "cell_type": "code",
   "execution_count": 19,
   "metadata": {
    "collapsed": false
   },
   "outputs": [
    {
     "name": "stdout",
     "output_type": "stream",
     "text": [
      "                        _id                                    interests  \\\n",
      "0  55f2f7c68b92f7072c1f5c77                            [data science, R]   \n",
      "1  55f2f7ca8b92f7072c1f5c78  [data science, machine learning, python, R]   \n",
      "2  55f2f7c08b92f7072c1f5c76                               [Java, python]   \n",
      "\n",
      "  location  name  occupation  \n",
      "0     None   Ted        None  \n",
      "1     None  Mike        None  \n",
      "2  Ireland   Bob  programmer  \n"
     ]
    }
   ],
   "source": [
    "df = df.fillna(\"None\")\n",
    "print df"
   ]
  },
  {
   "cell_type": "code",
   "execution_count": null,
   "metadata": {
    "collapsed": true
   },
   "outputs": [],
   "source": []
  }
 ],
 "metadata": {
  "kernelspec": {
   "display_name": "Python 2",
   "language": "python",
   "name": "python2"
  },
  "language_info": {
   "codemirror_mode": {
    "name": "ipython",
    "version": 2
   },
   "file_extension": ".py",
   "mimetype": "text/x-python",
   "name": "python",
   "nbconvert_exporter": "python",
   "pygments_lexer": "ipython2",
   "version": "2.7.8"
  }
 },
 "nbformat": 4,
 "nbformat_minor": 0
}
