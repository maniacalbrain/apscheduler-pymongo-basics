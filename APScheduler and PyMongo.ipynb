{
 "cells": [
  {
   "cell_type": "markdown",
   "metadata": {
    "collapsed": true
   },
   "source": [
    "#APScheduler and PyMongo\n",
    "\n",
    "The following is a simple example using APScheduler and PyMongo to pull down the price of bitcoin every minute using the <a href=\"http://www.coindesk.com/api/\" target=\"_blank\">CoinDesk API</a>, storing it the prices in a Mongo database and then importing them into pandas for plotting.\n",
    "\n",
    "If running these notebooks make sure to have a mongod instance running."
   ]
  },
  {
   "cell_type": "code",
   "execution_count": 1,
   "metadata": {
    "collapsed": true
   },
   "outputs": [],
   "source": [
    "from pymongo import MongoClient\n",
    "\n",
    "client = MongoClient()\n",
    "bitcoin = client.test_database.bitcoin"
   ]
  },
  {
   "cell_type": "code",
   "execution_count": 8,
   "metadata": {
    "collapsed": false
   },
   "outputs": [
    {
     "name": "stdout",
     "output_type": "stream",
     "text": [
      "212.2756\n"
     ]
    }
   ],
   "source": [
    "import urllib2\n",
    "import requests\n",
    "\n",
    "response = requests.get(\"http://api.coindesk.com/v1/bpi/currentprice.json\")\n",
    "bitcoin_response = response.json()\n",
    "print bitcoin_response['bpi']['EUR']['rate_float']"
   ]
  },
  {
   "cell_type": "markdown",
   "metadata": {},
   "source": [
    "First we created a function, get_price(), which APScheduler will call every minute. The function gets JSON from the CoinDesk API page and from this we extract the current price in Euro. We insert this value and the current time into our bitcoin collection"
   ]
  },
  {
   "cell_type": "code",
   "execution_count": 9,
   "metadata": {
    "collapsed": true
   },
   "outputs": [],
   "source": [
    "from apscheduler.schedulers.blocking import BlockingScheduler\n",
    "import datetime\n",
    "\n",
    "def get_price():\n",
    "    response = requests.get(\"http://api.coindesk.com/v1/bpi/currentprice.json\")\n",
    "    bitcoin_response = response.json()\n",
    "    price = bitcoin_response['bpi']['EUR']['rate_float']\n",
    "    time = datetime.datetime.now()\n",
    "    \n",
    "    bitcoin.insert({\"time\" : time, \"price\" : price})    "
   ]
  },
  {
   "cell_type": "markdown",
   "metadata": {},
   "source": [
    "There are many different types of schedulers, with <a href=\"http://apscheduler.readthedocs.org/en/latest/modules/schedulers/blocking.html\" target=\"_blank\">BlockingScheduler</a> being described as the easiest to use. Using add_job() we add the function that we want called tell it that it will be called a intervals of 1 minute. There are many other ways the function can be called and can be found in the <a href=\"http://apscheduler.readthedocs.org/en/latest/index.html\" target=\"_blank\">documents.</a>\n",
    "\n",
    "I let this block run for a few minutes and then pressed the stop button to interupt the kernel."
   ]
  },
  {
   "cell_type": "code",
   "execution_count": 10,
   "metadata": {
    "collapsed": true
   },
   "outputs": [],
   "source": [
    "bitcoin.remove({}) #Added to empty out the collection the first time the code is run\n",
    "\n",
    "scheduler = BlockingScheduler()\n",
    "scheduler.add_job(get_price, 'interval', minutes=1)\n",
    "\n",
    "try:\n",
    "    scheduler.start()\n",
    "except (KeyboardInterrupt, SystemExit):\n",
    "    pass"
   ]
  },
  {
   "cell_type": "markdown",
   "metadata": {},
   "source": [
    "The following can be run while the kernal is still running and adding prices to the collection but will need to be done outside of ipython notebook. I also have spyder installed and was able to run \"for price in bitcoin.find(): print price\"\n",
    "Below we convert the collection to a pandas dataframe and then make a plot of the price movement. "
   ]
  },
  {
   "cell_type": "code",
   "execution_count": 14,
   "metadata": {
    "collapsed": false
   },
   "outputs": [
    {
     "name": "stdout",
     "output_type": "stream",
     "text": [
      "Populating the interactive namespace from numpy and matplotlib\n"
     ]
    },
    {
     "data": {
      "text/html": [
       "<div style=\"max-height:1000px;max-width:1500px;overflow:auto;\">\n",
       "<table border=\"1\" class=\"dataframe\">\n",
       "  <thead>\n",
       "    <tr style=\"text-align: right;\">\n",
       "      <th></th>\n",
       "      <th>_id</th>\n",
       "      <th>price</th>\n",
       "      <th>time</th>\n",
       "    </tr>\n",
       "  </thead>\n",
       "  <tbody>\n",
       "    <tr>\n",
       "      <th>0</th>\n",
       "      <td>55f2f0dd8b92f71c58c7b29f</td>\n",
       "      <td>212.3927</td>\n",
       "      <td>2015-09-11 16:18:53.533000</td>\n",
       "    </tr>\n",
       "    <tr>\n",
       "      <th>1</th>\n",
       "      <td>55f2f1198b92f71c58c7b2a0</td>\n",
       "      <td>212.3283</td>\n",
       "      <td>2015-09-11 16:19:53.444000</td>\n",
       "    </tr>\n",
       "    <tr>\n",
       "      <th>2</th>\n",
       "      <td>55f2f1568b92f71c58c7b2a1</td>\n",
       "      <td>212.2782</td>\n",
       "      <td>2015-09-11 16:20:54.543000</td>\n",
       "    </tr>\n",
       "    <tr>\n",
       "      <th>3</th>\n",
       "      <td>55f2f1938b92f71c58c7b2a2</td>\n",
       "      <td>212.3580</td>\n",
       "      <td>2015-09-11 16:21:55.219000</td>\n",
       "    </tr>\n",
       "    <tr>\n",
       "      <th>4</th>\n",
       "      <td>55f2f1cd8b92f71c58c7b2a3</td>\n",
       "      <td>212.3580</td>\n",
       "      <td>2015-09-11 16:22:53.529000</td>\n",
       "    </tr>\n",
       "  </tbody>\n",
       "</table>\n",
       "</div>"
      ],
      "text/plain": [
       "                        _id     price                       time\n",
       "0  55f2f0dd8b92f71c58c7b29f  212.3927 2015-09-11 16:18:53.533000\n",
       "1  55f2f1198b92f71c58c7b2a0  212.3283 2015-09-11 16:19:53.444000\n",
       "2  55f2f1568b92f71c58c7b2a1  212.2782 2015-09-11 16:20:54.543000\n",
       "3  55f2f1938b92f71c58c7b2a2  212.3580 2015-09-11 16:21:55.219000\n",
       "4  55f2f1cd8b92f71c58c7b2a3  212.3580 2015-09-11 16:22:53.529000"
      ]
     },
     "execution_count": 14,
     "metadata": {},
     "output_type": "execute_result"
    }
   ],
   "source": [
    "import pandas as pd\n",
    "import matplotlib.pyplot as plt\n",
    "%pylab inline\n",
    "\n",
    "bitcoin_df =  pd.DataFrame(list(bitcoin.find()))\n",
    "bitcoin_df.head()"
   ]
  },
  {
   "cell_type": "code",
   "execution_count": 15,
   "metadata": {
    "collapsed": false
   },
   "outputs": [
    {
     "data": {
      "text/plain": [
       "16"
      ]
     },
     "execution_count": 15,
     "metadata": {},
     "output_type": "execute_result"
    }
   ],
   "source": [
    "len(bitcoin_df)"
   ]
  },
  {
   "cell_type": "code",
   "execution_count": 16,
   "metadata": {
    "collapsed": false
   },
   "outputs": [
    {
     "data": {
      "text/plain": [
       "[<matplotlib.lines.Line2D at 0xceff128>]"
      ]
     },
     "execution_count": 16,
     "metadata": {},
     "output_type": "execute_result"
    },
    {
     "data": {
      "image/png": "[encoded data removed]",
      "text/plain": [
       "<matplotlib.figure.Figure at 0x21b0e48>"
      ]
     },
     "metadata": {},
     "output_type": "display_data"
    }
   ],
   "source": [
    "plt.plot(bitcoin_df['price'])"
   ]
  }
 ],
 "metadata": {
  "kernelspec": {
   "display_name": "Python 2",
   "language": "python",
   "name": "python2"
  },
  "language_info": {
   "codemirror_mode": {
    "name": "ipython",
    "version": 2
   },
   "file_extension": ".py",
   "mimetype": "text/x-python",
   "name": "python",
   "nbconvert_exporter": "python",
   "pygments_lexer": "ipython2",
   "version": "2.7.8"
  }
 },
 "nbformat": 4,
 "nbformat_minor": 0
}
